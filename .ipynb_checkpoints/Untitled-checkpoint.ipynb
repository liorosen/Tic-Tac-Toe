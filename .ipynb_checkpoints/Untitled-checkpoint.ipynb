{
 "cells": [
  {
   "cell_type": "code",
   "execution_count": 53,
   "id": "af056e68",
   "metadata": {},
   "outputs": [],
   "source": [
    "def Greeding():\n",
    "    print(\"Welcome to the big Tic Tac Toe Game \\n\")\n",
    "    print(\"Which sign would u like to be ? X | O\") \n",
    "    marker = input().upper() \n",
    "    print(\"-------------------------------------\")\n",
    "    print(\"You Chose \" +  marker)\n",
    "    if  marker == \"X\":\n",
    "        player = \"X\"\n",
    "        computer = \"O\"\n",
    "    elif marker == \"O\":\n",
    "        player = \"O\"\n",
    "        computer = \"X\"\n",
    "    else:\n",
    "        while  marker != \"X\" and  marker != \"O\":\n",
    "            print(\"Please choose again the sign\")\n",
    "            print(\"----------------------------\")\n",
    "             marker = input(\"Which sign would u like to be ? X | O\")\n",
    "    return  marker\n",
    "        "
   ]
  },
  {
   "cell_type": "code",
   "execution_count": 54,
   "id": "918b0b03",
   "metadata": {},
   "outputs": [],
   "source": [
    "from IPython.display import clear_output\n",
    "def GameBoard(board):\n",
    "    print(\"    \" + board[1] +\" | \" +  board[2] + \" | \" + board[3] + \"   \")\n",
    "    print(\"    \" + board[4] +\" | \" +  board[5] + \" | \" + board[6] + \"   \")\n",
    "    print(\"    \" + board[7] +\" | \" +  board[8] + \" | \" +  board[9] + \"   \")\n",
    "    "
   ]
  },
  {
   "cell_type": "code",
   "execution_count": null,
   "id": "8b415a9a",
   "metadata": {},
   "outputs": [],
   "source": []
  },
  {
   "cell_type": "code",
   "execution_count": null,
   "id": "15f3beb5",
   "metadata": {},
   "outputs": [],
   "source": [
    "def Choosing_Place(board , marker , position):\n",
    "    board[positin] = marker\n",
    "                "
   ]
  },
  {
   "cell_type": "code",
   "execution_count": null,
   "id": "64bcffb5",
   "metadata": {},
   "outputs": [],
   "source": [
    "def Winning(board , marker):\n",
    "    return ((board[1] == marker and board[2] == marker and board[3] == marker) or # first row\n",
    "            (board[4] == marker and board[5] == marker and board[6] == marker) or # second row\n",
    "            (board[7] == marker and board[8] == marker and board[9] == marker) or # third row\n",
    "            (board[1] == marker and board[4] == marker and board[7] == marker) or # first column\n",
    "            (board[2] == marker and board[5] == marker and board[8] == marker) or # second column\n",
    "            (board[3] == marker and board[6] == marker and board[9] == marker) or # third column\n",
    "            (board[1] == marker and board[5] == marker and board[9] == marker) or # right to left diagnol\n",
    "            (board[3] == marker and board[5] == marker and board[7] == marker)) # left to right diagnol"
   ]
  },
  {
   "cell_type": "code",
   "execution_count": null,
   "id": "193bba2c",
   "metadata": {},
   "outputs": [],
   "source": [
    "import random\n",
    "def choose_first_player():\n",
    "    if random.randint(0,1) == 0 :\n",
    "        return 'Player is first'\n",
    "    return 'Computer is first'\n"
   ]
  },
  {
   "cell_type": "code",
   "execution_count": null,
   "id": "68449c33",
   "metadata": {},
   "outputs": [],
   "source": [
    "def space_free(board,position):\n",
    "    return borad[position] == ' '"
   ]
  },
  {
   "cell_type": "code",
   "execution_count": null,
   "id": "bf4bba7c",
   "metadata": {},
   "outputs": [],
   "source": [
    "def Board_isFull(board):\n",
    "    for i in range(10):\n",
    "        if board[i] == ' '\n",
    "            return true\n",
    "        else:\n",
    "            i =+ 1\n",
    "    return false"
   ]
  },
  {
   "cell_type": "code",
   "execution_count": null,
   "id": "2d0a123b",
   "metadata": {},
   "outputs": [],
   "source": [
    "def Player_Choise(board):\n",
    "    position = 0\n",
    "    while position not in range(10) or not space_free(board,position):\n",
    "        position = int(input(\"Please choose number between 1-9\"))\n",
    "    return position"
   ]
  },
  {
   "cell_type": "code",
   "execution_count": null,
   "id": "d117b273",
   "metadata": {},
   "outputs": [],
   "source": [
    "def Rematch_Game:\n",
    "    print(\"Would you like to play again? Y = yes | N = no\")\n",
    "    answer = input().upper\n",
    "    if( answer == \"n\"):\n",
    "        print(\"See ya next time\")\n",
    "    else:\n",
    "        Greeding()"
   ]
  },
  {
   "cell_type": "code",
   "execution_count": 55,
   "id": "b8495c23",
   "metadata": {},
   "outputs": [
    {
     "name": "stdout",
     "output_type": "stream",
     "text": [
      "    X | O | X   \n",
      "    O | X | O   \n",
      "    X | O | X   \n"
     ]
    }
   ],
   "source": [
    "test_board = ['#','X','O','X','O','X','O','X','O','X']\n",
    "GameBoard(test_board)"
   ]
  },
  {
   "cell_type": "code",
   "execution_count": 56,
   "id": "cf57e4e8",
   "metadata": {},
   "outputs": [
    {
     "name": "stdout",
     "output_type": "stream",
     "text": [
      "Welcome to the big Tic Tac Toe Game \n",
      "\n",
      "Which sign would u like to be ? X | Os\n",
      "-------------------------------------\n",
      "You Chose s\n",
      "Please choose again the sign\n",
      "----------------------------\n",
      "Which sign would u like to be ? X | OX\n"
     ]
    }
   ],
   "source": [
    "Greeding()"
   ]
  },
  {
   "cell_type": "code",
   "execution_count": null,
   "id": "55447a9c",
   "metadata": {},
   "outputs": [],
   "source": []
  }
 ],
 "metadata": {
  "kernelspec": {
   "display_name": "Python 3 (ipykernel)",
   "language": "python",
   "name": "python3"
  },
  "language_info": {
   "codemirror_mode": {
    "name": "ipython",
    "version": 3
   },
   "file_extension": ".py",
   "mimetype": "text/x-python",
   "name": "python",
   "nbconvert_exporter": "python",
   "pygments_lexer": "ipython3",
   "version": "3.9.13"
  }
 },
 "nbformat": 4,
 "nbformat_minor": 5
}
